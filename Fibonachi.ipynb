{
  "nbformat": 4,
  "nbformat_minor": 0,
  "metadata": {
    "colab": {
      "name": "fibonachi.ipynb",
      "provenance": []
    },
    "kernelspec": {
      "name": "python3",
      "display_name": "Python 3"
    },
    "language_info": {
      "name": "python"
    }
  },
  "cells": [
    {
      "cell_type": "code",
      "metadata": {
        "id": "5V7YB9wNo6ge",
        "colab": {
          "base_uri": "https://localhost:8080/"
        },
        "outputId": "08c308cf-5f24-4633-be91-9943936bf08c"
      },
      "source": [
        "\n",
        "fib1 = fib2 = 1\n",
        " \n",
        "n = input(\"Номер элемента ряда Фибоначчи: \")\n",
        "n = int(n) - 2\n",
        " \n",
        "while n > 0:\n",
        "    fib1, fib2 = fib2, fib1 + fib2\n",
        "    n -= 1\n",
        " \n",
        "print(\"Значение этого элемента:\", fib2)"
      ],
      "execution_count": 3,
      "outputs": [
        {
          "output_type": "stream",
          "text": [
            "Номер элемента ряда Фибоначчи: 56\n",
            "Значение этого элемента: 225851433717\n"
          ],
          "name": "stdout"
        }
      ]
    }
  ]
}